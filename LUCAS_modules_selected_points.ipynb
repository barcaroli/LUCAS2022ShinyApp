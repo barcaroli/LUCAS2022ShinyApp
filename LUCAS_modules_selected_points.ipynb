{
 "cells": [
  {
   "cell_type": "markdown",
   "id": "fb1a4f00-5047-489a-8dbc-0509e9e70577",
   "metadata": {},
   "source": [
    "# Lucas 2022"
   ]
  },
  {
   "cell_type": "markdown",
   "id": "79273c5e-4472-474e-8420-3d0367250d7a",
   "metadata": {},
   "source": [
    "## Visualization of Copernicus, Grassland, Extended Grassland, Landscape Features and Soil modules selected points"
   ]
  },
  {
   "cell_type": "code",
   "execution_count": null,
   "id": "6a508162-5502-481c-8cfa-0fd17382737e",
   "metadata": {},
   "outputs": [],
   "source": [
    "library(shiny)\n",
    "runApp('sample2022_maps_modules.R',launch.browser = TRUE)"
   ]
  },
  {
   "cell_type": "code",
   "execution_count": null,
   "id": "8d14d16a-cbf9-43a9-8979-60cf42a77da1",
   "metadata": {},
   "outputs": [],
   "source": []
  }
 ],
 "metadata": {
  "kernelspec": {
   "display_name": "R",
   "language": "R",
   "name": "ir"
  },
  "language_info": {
   "codemirror_mode": "r",
   "file_extension": ".r",
   "mimetype": "text/x-r-source",
   "name": "R",
   "pygments_lexer": "r",
   "version": "4.1.1"
  }
 },
 "nbformat": 4,
 "nbformat_minor": 5
}
