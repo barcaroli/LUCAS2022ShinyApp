{
 "cells": [
  {
   "cell_type": "markdown",
   "id": "5b558b93-fdd5-4d49-b510-fe991412f067",
   "metadata": {},
   "source": [
    "# LUCAS 2022"
   ]
  },
  {
   "cell_type": "markdown",
   "id": "ac889121-3c06-4605-837f-73a96bf8d53a",
   "metadata": {},
   "source": [
    "## Visualization of LUCAS sample selected points"
   ]
  },
  {
   "cell_type": "code",
   "execution_count": null,
   "id": "b3b1339a",
   "metadata": {},
   "outputs": [
    {
     "name": "stderr",
     "output_type": "stream",
     "text": [
      "Warning message:\n",
      "\"il pacchetto 'shiny' è stato creato con R versione 4.1.2\"\n",
      "Caricamento del pacchetto richiesto: shinythemes\n",
      "\n",
      "Warning message:\n",
      "\"il pacchetto 'shinythemes' è stato creato con R versione 4.1.2\"\n",
      "Caricamento del pacchetto richiesto: sf\n",
      "\n",
      "Warning message:\n",
      "\"il pacchetto 'sf' è stato creato con R versione 4.1.2\"\n",
      "Linking to GEOS 3.9.1, GDAL 3.2.1, PROJ 7.2.1; sf_use_s2() is TRUE\n",
      "\n",
      "Caricamento del pacchetto richiesto: mapview\n",
      "\n",
      "Caricamento del pacchetto richiesto: leaflet\n",
      "\n",
      "Caricamento del pacchetto richiesto: leafpop\n",
      "\n",
      "\n",
      "Listening on http://127.0.0.1:3572\n",
      "\n"
     ]
    }
   ],
   "source": [
    "library(shiny)\n",
    "runApp('sample2022_maps.R',launch.browser = TRUE)"
   ]
  }
 ],
 "metadata": {
  "kernelspec": {
   "display_name": "R",
   "language": "R",
   "name": "ir"
  },
  "language_info": {
   "codemirror_mode": "r",
   "file_extension": ".r",
   "mimetype": "text/x-r-source",
   "name": "R",
   "pygments_lexer": "r",
   "version": "4.1.1"
  }
 },
 "nbformat": 4,
 "nbformat_minor": 5
}
